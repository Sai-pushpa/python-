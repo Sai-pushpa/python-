{
 "cells": [
  {
   "cell_type": "code",
   "execution_count": 1,
   "id": "6b354275-cea9-43fa-9ffb-639484d8d954",
   "metadata": {},
   "outputs": [
    {
     "name": "stdout",
     "output_type": "stream",
     "text": [
      "Names: ['Tester', 'Dummy', 'Sample', 'Apple']\n",
      "Numbers: [1, 3, 6, 4, 9, 2]\n"
     ]
    }
   ],
   "source": [
    "a = [\"Tester\", 1, 3, \"Dummy\", 6, 4, \"Sample\", 9, 2, \"Apple\"]\n",
    "\n",
    "# Initialize empty lists for names and numbers\n",
    "names = []\n",
    "numbers = []\n",
    "\n",
    "# Loop through the list and categorize each element\n",
    "for item in a:\n",
    "    if isinstance(item, str):\n",
    "        names.append(item)  # If it's a string, add to names list\n",
    "    elif isinstance(item, int):\n",
    "        numbers.append(item)  # If it's an integer, add to numbers list\n",
    "\n",
    "# Print the lists\n",
    "print(\"Names:\", names)\n",
    "print(\"Numbers:\", numbers)\n"
   ]
  },
  {
   "cell_type": "code",
   "execution_count": 2,
   "id": "4740dc0d-2ea7-4fdc-8e76-62f4465409d1",
   "metadata": {},
   "outputs": [
    {
     "name": "stdout",
     "output_type": "stream",
     "text": [
      "Names: ['Tester', 'Dummy', 'Sample', 'Apple']\n",
      "Numbers: [1, 3, 6, 4, 9, 2]\n"
     ]
    }
   ],
   "source": [
    "a = [\"Tester\", 1, 3, \"Dummy\", 6, 4, \"Sample\", 9, 2, \"Apple\"]\n",
    "\n",
    "names = []\n",
    "numbers = []\n",
    "\n",
    "for item in a:\n",
    "    if type(item) == str:\n",
    "        names.append(item)\n",
    "    elif type(item) == int:\n",
    "        numbers.append(item)\n",
    "\n",
    "# Print the lists\n",
    "print(\"Names:\", names)\n",
    "print(\"Numbers:\", numbers)\n"
   ]
  },
  {
   "cell_type": "code",
   "execution_count": null,
   "id": "9a763bd9-b5e9-4cf9-a29f-400a614d4afd",
   "metadata": {},
   "outputs": [],
   "source": []
  }
 ],
 "metadata": {
  "kernelspec": {
   "display_name": "Python 3 (ipykernel)",
   "language": "python",
   "name": "python3"
  },
  "language_info": {
   "codemirror_mode": {
    "name": "ipython",
    "version": 3
   },
   "file_extension": ".py",
   "mimetype": "text/x-python",
   "name": "python",
   "nbconvert_exporter": "python",
   "pygments_lexer": "ipython3",
   "version": "3.11.7"
  }
 },
 "nbformat": 4,
 "nbformat_minor": 5
}
